{
 "cells": [
  {
   "cell_type": "code",
   "execution_count": 1,
   "id": "5f4fd269-3f42-4688-a9d4-03fd9f41d127",
   "metadata": {},
   "outputs": [],
   "source": [
    "#ans1="
   ]
  },
  {
   "cell_type": "code",
   "execution_count": 2,
   "id": "5bc2fcbf-ec16-4333-a67d-15eb2a69f236",
   "metadata": {},
   "outputs": [
    {
     "name": "stdout",
     "output_type": "stream",
     "text": [
      "Original list of tuples:\n",
      "[('Sachin tendulker', 34357), ('Rickey Pointing', 27483), ('virat kohli', 24936), ('jack kallis', 25534)]\n",
      "\n",
      "Sorting the List of Tuples:\n",
      "[('virat kohli', 24936), ('jack kallis', 25534), ('Rickey Pointing', 27483), ('Sachin tendulker', 34357)]\n"
     ]
    }
   ],
   "source": [
    "t = [('Sachin tendulker', 34357), ('Rickey Pointing', 27483), ('virat kohli', 24936), ('jack kallis', 25534)]\n",
    "print(\"Original list of tuples:\")\n",
    "print(t)\n",
    "t.sort(key = lambda x: x[1])\n",
    "print(\"\\nSorting the List of Tuples:\")\n",
    "print(t)"
   ]
  },
  {
   "cell_type": "code",
   "execution_count": 3,
   "id": "e6265841-0899-454e-b3e4-dc3ef2088c4b",
   "metadata": {},
   "outputs": [],
   "source": [
    "#ans2="
   ]
  },
  {
   "cell_type": "code",
   "execution_count": 6,
   "id": "78ca2211-727a-40c2-9a0a-91d0af01a0a2",
   "metadata": {},
   "outputs": [
    {
     "name": "stdout",
     "output_type": "stream",
     "text": [
      "\n",
      "Square every number of the said list:\n",
      "[1, 4, 9, 16, 25, 36, 49, 64, 81, 100]\n"
     ]
    }
   ],
   "source": [
    "nums = [1, 2, 3, 4, 5, 6, 7, 8, 9, 10]\n",
    "print(\"\\nSquare every number of the said list:\")\n",
    "square_nums = list(map(lambda x: x ** 2, nums))\n",
    "print(square_nums)\n",
    "\n"
   ]
  },
  {
   "cell_type": "code",
   "execution_count": 8,
   "id": "24667f29-dc2b-488c-966b-a8ed5e608f55",
   "metadata": {},
   "outputs": [],
   "source": [
    "#ans no=3"
   ]
  },
  {
   "cell_type": "code",
   "execution_count": 19,
   "id": "2865ec52-aae7-457c-bf4a-01874e1b4b03",
   "metadata": {},
   "outputs": [
    {
     "name": "stdout",
     "output_type": "stream",
     "text": [
      "(1, 2, 3, 4, 5, 6, 7, 8, 9, 10)\n"
     ]
    }
   ],
   "source": [
    "sample_list = [1,2,3,4,5,6,7,8,9,10]\n",
    "tuple1 = tuple(sample_list)\n",
    "\n",
    "print(tuple1)\n",
    "\n",
    " \n",
    "\n"
   ]
  },
  {
   "cell_type": "code",
   "execution_count": 20,
   "id": "094de69d-f2c1-4c68-9faf-446b7626d657",
   "metadata": {},
   "outputs": [],
   "source": [
    "#ans no=4"
   ]
  },
  {
   "cell_type": "code",
   "execution_count": 27,
   "id": "fc8553a2-dde6-4a61-a8da-ea9519fe1fd9",
   "metadata": {},
   "outputs": [],
   "source": [
    "list1=list(range(0,26,1))"
   ]
  },
  {
   "cell_type": "code",
   "execution_count": 28,
   "id": "910944f6-9b31-4039-a2a9-b2817676290c",
   "metadata": {},
   "outputs": [
    {
     "data": {
      "text/plain": [
       "[0,\n",
       " 1,\n",
       " 2,\n",
       " 3,\n",
       " 4,\n",
       " 5,\n",
       " 6,\n",
       " 7,\n",
       " 8,\n",
       " 9,\n",
       " 10,\n",
       " 11,\n",
       " 12,\n",
       " 13,\n",
       " 14,\n",
       " 15,\n",
       " 16,\n",
       " 17,\n",
       " 18,\n",
       " 19,\n",
       " 20,\n",
       " 21,\n",
       " 22,\n",
       " 23,\n",
       " 24,\n",
       " 25]"
      ]
     },
     "execution_count": 28,
     "metadata": {},
     "output_type": "execute_result"
    }
   ],
   "source": [
    "list1"
   ]
  },
  {
   "cell_type": "code",
   "execution_count": 32,
   "id": "a7167c90-6132-4f93-8d86-fcf01b7f35fb",
   "metadata": {},
   "outputs": [
    {
     "name": "stdout",
     "output_type": "stream",
     "text": [
      "product is: 7034535277573963776\n"
     ]
    }
   ],
   "source": [
    "import numpy\n",
    "list1=list(range(1,26,1))\n",
    "result1 = numpy.prod(list1)\n",
    "print('product is:',result1)\n"
   ]
  },
  {
   "cell_type": "code",
   "execution_count": 33,
   "id": "e0df5396-9e41-4924-9c05-35488424e7a6",
   "metadata": {},
   "outputs": [],
   "source": [
    "#ans5="
   ]
  },
  {
   "cell_type": "code",
   "execution_count": 34,
   "id": "0ef93de6-26f5-4985-a125-4a6bc025b0a7",
   "metadata": {},
   "outputs": [
    {
     "name": "stdout",
     "output_type": "stream",
     "text": [
      "Numbers divisible by 2 and 3 are [6, 60, 90, 120]\n"
     ]
    }
   ],
   "source": [
    "num_list = [2,3,6,9,27,60,90,120,55,46]\n",
    "# use anonymous function to filter\n",
    "result = list(filter(lambda x: (x % 2 == 0 and x % 3==0), num_list))\n",
    "print(\"Numbers divisible by 2 and 3 are\",result)\n"
   ]
  },
  {
   "cell_type": "code",
   "execution_count": 35,
   "id": "fc0fb0b0-1326-446d-a617-5c8d5b53fbed",
   "metadata": {},
   "outputs": [],
   "source": [
    "#ans6="
   ]
  },
  {
   "cell_type": "code",
   "execution_count": 36,
   "id": "65bdf85d-e6f6-487f-951f-58cabe395843",
   "metadata": {},
   "outputs": [
    {
     "name": "stdout",
     "output_type": "stream",
     "text": [
      "Orginal list of strings:\n",
      "['python', 'php', 'abd', 'radar', 'level']\n",
      "\n",
      "List of palindromes:\n",
      "['php', 'radar', 'level']\n"
     ]
    }
   ],
   "source": [
    "texts = ['python','php','abd','radar','level']\n",
    "print(\"Orginal list of strings:\")\n",
    "print(texts) \n",
    "result = list(filter(lambda x: (x == \"\".join(reversed(x))), texts)) \n",
    "print(\"\\nList of palindromes:\")\n",
    "print(result) \n"
   ]
  },
  {
   "cell_type": "code",
   "execution_count": null,
   "id": "101725d0-d500-4f62-93b7-df7780896fe9",
   "metadata": {},
   "outputs": [],
   "source": []
  }
 ],
 "metadata": {
  "kernelspec": {
   "display_name": "Python 3 (ipykernel)",
   "language": "python",
   "name": "python3"
  },
  "language_info": {
   "codemirror_mode": {
    "name": "ipython",
    "version": 3
   },
   "file_extension": ".py",
   "mimetype": "text/x-python",
   "name": "python",
   "nbconvert_exporter": "python",
   "pygments_lexer": "ipython3",
   "version": "3.10.8"
  }
 },
 "nbformat": 4,
 "nbformat_minor": 5
}
